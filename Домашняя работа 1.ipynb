{
 "cells": [
  {
   "cell_type": "code",
   "execution_count": null,
   "id": "6b867320",
   "metadata": {},
   "outputs": [],
   "source": [
    "import matplotlib\n",
    "import numpy as np\n",
    "import matplotlib.pyplot as plt\n",
    "from multiprocessing import Pool\n",
    "import time\n",
    "\n",
    "\n",
    "def f(xx):\n",
    "    r=0\n",
    "    for i in range(xx):\n",
    "        r=r+i\n",
    "    return r\n",
    "\n",
    "n=10000\n",
    "y1=[]\n",
    "y2=[]\n",
    "x=[x for x in range(100,2100, 100)]\n",
    "for n  in  x:\n",
    "    t1 =time.time()\n",
    "    with Pool() as p:\n",
    "        p.map(f, [x for x in range(n)])\n",
    "\n",
    "    t2 =time.time()\n",
    "    y1.append(t2-t1)\n",
    "    t1 =time.time()\n",
    "    for xx in range(n):\n",
    "        f(xx)\n",
    "    t2 =time.time()\n",
    "    y2.append(t2-t1)\n",
    "\n",
    "%matplotlib inline\n",
    "\n",
    "plt.plot(x, y1,  color='#FB8500', label='Multi')\n",
    "plt.plot(x, y2,  color='#023047', label='Single')\n",
    "plt.legend()\n",
    "plt.title('Оценка производительности: чем выше - тем хуже')\n",
    "plt.show()"
   ]
  }
 ],
 "metadata": {
  "kernelspec": {
   "display_name": "Python 3 (ipykernel)",
   "language": "python",
   "name": "python3"
  },
  "language_info": {
   "codemirror_mode": {
    "name": "ipython",
    "version": 3
   },
   "file_extension": ".py",
   "mimetype": "text/x-python",
   "name": "python",
   "nbconvert_exporter": "python",
   "pygments_lexer": "ipython3",
   "version": "3.10.7"
  }
 },
 "nbformat": 4,
 "nbformat_minor": 5
}
